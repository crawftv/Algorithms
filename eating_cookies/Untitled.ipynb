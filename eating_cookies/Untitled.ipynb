{
 "cells": [
  {
   "cell_type": "code",
   "execution_count": 1,
   "metadata": {},
   "outputs": [],
   "source": [
    "def e(n):\n",
    "    count = 0\n",
    "    def eat(n,x):\n",
    "        nonlocal count\n",
    "        s = n-x\n",
    "        if s==0:\n",
    "            count +=1\n",
    "        elif s<0:\n",
    "            pass\n",
    "        else:\n",
    "            eat(s,3) \n",
    "            eat(s,2)\n",
    "            eat(s,1)\n",
    "    eat(n,0)\n",
    "    return count"
   ]
  },
  {
   "cell_type": "code",
   "execution_count": 2,
   "metadata": {},
   "outputs": [
    {
     "data": {
      "text/plain": [
       "13"
      ]
     },
     "execution_count": 2,
     "metadata": {},
     "output_type": "execute_result"
    }
   ],
   "source": [
    "e(5)"
   ]
  },
  {
   "cell_type": "code",
   "execution_count": 3,
   "metadata": {},
   "outputs": [
    {
     "data": {
      "text/plain": [
       "24"
      ]
     },
     "execution_count": 3,
     "metadata": {},
     "output_type": "execute_result"
    }
   ],
   "source": [
    "e(6)"
   ]
  },
  {
   "cell_type": "code",
   "execution_count": 29,
   "metadata": {},
   "outputs": [
    {
     "name": "stdout",
     "output_type": "stream",
     "text": [
      "7\n"
     ]
    }
   ],
   "source": [
    "n=4\n",
    "cache = {}\n",
    "for i in range(1,n+1): \n",
    "    def e(n):\n",
    "        count = 0\n",
    "        def eat(n,x):\n",
    "            nonlocal count\n",
    "            s = n-x\n",
    "            if s==0:\n",
    "                count +=1\n",
    "            elif s in cache:\n",
    "                count += cache[s]\n",
    "            elif s<0:\n",
    "                pass\n",
    "            else:\n",
    "                eat(s,3) \n",
    "                eat(s,2)\n",
    "                eat(s,1)\n",
    "        eat(n,0)\n",
    "        cache[n] = count\n",
    "        return cache[n]\n",
    "    e(i)\n",
    "print(cache[n])"
   ]
  },
  {
   "cell_type": "code",
   "execution_count": null,
   "metadata": {},
   "outputs": [],
   "source": []
  },
  {
   "cell_type": "code",
   "execution_count": null,
   "metadata": {},
   "outputs": [],
   "source": []
  }
 ],
 "metadata": {
  "kernelspec": {
   "display_name": "Python 3",
   "language": "python",
   "name": "python3"
  },
  "language_info": {
   "codemirror_mode": {
    "name": "ipython",
    "version": 3
   },
   "file_extension": ".py",
   "mimetype": "text/x-python",
   "name": "python",
   "nbconvert_exporter": "python",
   "pygments_lexer": "ipython3",
   "version": "3.6.7"
  }
 },
 "nbformat": 4,
 "nbformat_minor": 2
}
